{
 "cells": [
  {
   "cell_type": "code",
   "execution_count": 28,
   "id": "e5106e42-2843-46c9-b312-5f78b286530b",
   "metadata": {},
   "outputs": [],
   "source": [
    "from empirical_study.empirical_study_normalized_tspl import find_optimal_parameters_normalized_tspl\n",
    "from empirical_study.empirical_study_tspl import find_optimal_parameters_tspl\n",
    "from empirical_study.empirical_study_2exp import find_optimal_parameters_exp\n",
    "\n",
    "\n",
    "from empirical_study.utils import *\n",
    "from empirical_study.plot_functions import *\n",
    "import yfinance as yf"
   ]
  },
  {
   "cell_type": "markdown",
   "id": "242be620-3992-40ef-9da4-3a7cee20f2a3",
   "metadata": {},
   "source": [
    "For a given volatility index $v$ and a market index $S$, for a given `setting` which is a list of tuples `(n,j)` or `(n, (j_1,..., j_k))`, for each timestep $t$ (in days):\n",
    "$$\n",
    "r_t = \\frac{S_t - S_{t-1}}{S_{t-1}}\n",
    "$$\n",
    "$$\n",
    "R_{n,t} = \\sum_{t_i \\leq t} K_n(t-t_i)r_{t_i}^n\n",
    "$$\n",
    "\n",
    "Then the model estimates the volatility as\n",
    "$$\n",
    "v_t^p = \\beta_0 + \\sum_{n} \\sum_{j\\in\\{j_1,\\dots, j_{i_k}\\}} \\beta_{n,j} R_{n,t}^j\n",
    "$$\n",
    "Note: when there is only one $j$ associated to $n$, $\\beta_{n,j}$ is simply noted $\\beta_n$.\n",
    "\n",
    "\n",
    "For example, the linear model we suggest is defined with `p=1`, `setting=[(1,1), (2,1/2)]`, resulting in\n",
    "$$\n",
    "v_t = \\beta_0 + \\beta_1 R_{1,t} + \\beta_2 R_{2,t}^{1/2}\n",
    "$$\n",
    "The model (M3) is defined by `p=2`, `setting=[(1,(1,2))]`, resulting in\n",
    "$$\n",
    "v_t^2 = \\beta_0 + \\beta_{1,1} R_{1,t} + \\beta_{1,2} R_{1,t}^2\n",
    "$$\n",
    "\n",
    "Note that there is one kernel per $n$. The kernels are either time-shifted power-laws or convex combinations of two exponentials."
   ]
  },
  {
   "cell_type": "code",
   "execution_count": 3,
   "id": "9dccdb4c-e321-4de2-9437-2974e6bc4467",
   "metadata": {},
   "outputs": [],
   "source": [
    "load_from = pd.to_datetime('1995-01-01')  # Need at least 4 years prior to the first training day\n",
    "train_start_date = pd.to_datetime('2000-01-03')\n",
    "test_start_date = pd.to_datetime('2019-01-01')\n",
    "test_end_date = pd.to_datetime('2022-05-15')"
   ]
  },
  {
   "cell_type": "code",
   "execution_count": 4,
   "id": "9bb22125-6984-4b63-828e-eb5147ca0244",
   "metadata": {},
   "outputs": [],
   "source": [
    "# Load data on SPX and VIX\n",
    "spx_data = yf.Ticker(\"^GSPC\").history(start=load_from, end=test_end_date)\n",
    "vix_data = yf.Ticker(\"^VIX\").history(start=load_from, end=test_end_date)"
   ]
  },
  {
   "cell_type": "code",
   "execution_count": 5,
   "id": "09ac3b16-5650-437e-9c4f-cd44499d1603",
   "metadata": {},
   "outputs": [],
   "source": [
    "spx_data.index = pd.to_datetime(spx_data.index.date)\n",
    "vix_data.index = pd.to_datetime(vix_data.index.date)"
   ]
  },
  {
   "cell_type": "code",
   "execution_count": 6,
   "id": "1801d269-b4a3-4f31-ab2d-875c4ae5da5c",
   "metadata": {},
   "outputs": [],
   "source": [
    "spx = spx_data['Close']\n",
    "vix = vix_data['Close'] / 100"
   ]
  },
  {
   "cell_type": "code",
   "execution_count": 7,
   "id": "07c5a3de-3b5d-4c26-a99f-8106c5ce5d50",
   "metadata": {},
   "outputs": [],
   "source": [
    "dvix = vix.shift(1) - vix"
   ]
  },
  {
   "cell_type": "code",
   "execution_count": 8,
   "id": "99fcf53c-2988-4167-8645-e7869c379926",
   "metadata": {},
   "outputs": [],
   "source": [
    "max_delta = 1000  # Number of past returns used in the computation of R_{n,t} in business days\n",
    "test_start = test_start_date\n",
    "test_end = test_end_date\n",
    "train_start = train_start_date"
   ]
  },
  {
   "cell_type": "code",
   "execution_count": 9,
   "id": "71f14dd4-aeef-4976-866a-6a2f8cc0719e",
   "metadata": {},
   "outputs": [],
   "source": [
    "p = 1\n",
    "setting = [(1, 1), (2, 1/2)] # Our linear model"
   ]
  },
  {
   "cell_type": "code",
   "execution_count": 10,
   "id": "657bab49-87bd-49d8-b0e5-db68cb333afa",
   "metadata": {},
   "outputs": [],
   "source": [
    "import time"
   ]
  },
  {
   "cell_type": "code",
   "execution_count": 29,
   "id": "99295543-98a5-4879-9ffe-ff6cacf2d6d0",
   "metadata": {
    "scrolled": true,
    "tags": []
   },
   "outputs": [
    {
     "name": "stdout",
     "output_type": "stream",
     "text": [
      "323.3469316959381\n"
     ]
    }
   ],
   "source": [
    "start = time.time()\n",
    "sol = find_optimal_parameters_exp(vol=vix, index=spx, p=p, setting=setting, train_start_date=train_start,\n",
    "                                  test_start_date=test_start, test_end_date=test_end, \n",
    "                                  max_delta=max_delta)\n",
    "print(time.time() - start)"
   ]
  },
  {
   "cell_type": "code",
   "execution_count": 30,
   "id": "5c1fac1c-f606-408b-b91e-8d1623394e3d",
   "metadata": {},
   "outputs": [
    {
     "name": "stdout",
     "output_type": "stream",
     "text": [
      "526.3570742607117\n"
     ]
    }
   ],
   "source": [
    "start = time.time()\n",
    "sol_shift = find_optimal_parameters_exp(vol=vix.shift(1), index=spx, p=p, setting=setting, train_start_date=train_start,\n",
    "                                  test_start_date=test_start, test_end_date=test_end, \n",
    "                                  max_delta=max_delta)\n",
    "print(time.time() - start)"
   ]
  },
  {
   "cell_type": "code",
   "execution_count": 31,
   "id": "10c8f1f5-ef16-4b49-85e0-7c01c895c919",
   "metadata": {},
   "outputs": [
    {
     "name": "stdout",
     "output_type": "stream",
     "text": [
      "3.5484347343444824\n"
     ]
    }
   ],
   "source": [
    "start = time.time()\n",
    "sol_dvix = find_optimal_parameters_exp(vol=dvix, index=spx, p=p, setting=setting, train_start_date=train_start,\n",
    "                                  test_start_date=test_start, test_end_date=test_end, \n",
    "                                  max_delta=max_delta)\n",
    "print(time.time() - start)"
   ]
  },
  {
   "cell_type": "code",
   "execution_count": null,
   "id": "5f1d587a-85fa-4945-ad72-2afb1b04edde",
   "metadata": {
    "scrolled": true,
    "tags": []
   },
   "outputs": [],
   "source": [
    "# start = time.time()\n",
    "# sol_norm = find_optimal_parameters_normalized_tspl(vol=vix.shift(1), index=spx, train_start_date = pd.to_datetime(\"2000-01-03\"), test_start_date = pd.to_datetime(\"2015-02-23\"), test_end_date = pd.to_datetime(\"2017-04-12\"), max_delta=1000)\n",
    "# print(time.time() - start)"
   ]
  },
  {
   "cell_type": "code",
   "execution_count": 32,
   "id": "e90b1ad5-db4a-4c89-b2ed-3ffef803b354",
   "metadata": {
    "scrolled": true,
    "tags": []
   },
   "outputs": [
    {
     "name": "stdout",
     "output_type": "stream",
     "text": [
      "13.903037786483765\n"
     ]
    }
   ],
   "source": [
    "start = time.time()\n",
    "sol_norm = find_optimal_parameters_normalized_tspl(vol=vix, index=spx, p=p, setting=setting, train_start_date=train_start,\n",
    "                                  test_start_date=test_start, test_end_date=test_end, \n",
    "                                  max_delta=max_delta)\n",
    "print(time.time() - start)"
   ]
  },
  {
   "cell_type": "code",
   "execution_count": 33,
   "id": "e5c0b8d9-de0d-4995-93fc-53bef1c32aca",
   "metadata": {},
   "outputs": [
    {
     "name": "stdout",
     "output_type": "stream",
     "text": [
      "26.18277668952942\n"
     ]
    }
   ],
   "source": [
    "start = time.time()\n",
    "sol_norm_shift = find_optimal_parameters_normalized_tspl(vol=vix.shift(1), index=spx, p=p, setting=setting, train_start_date=train_start,\n",
    "                                  test_start_date=test_start, test_end_date=test_end, \n",
    "                                  max_delta=max_delta)\n",
    "print(time.time() - start)"
   ]
  },
  {
   "cell_type": "code",
   "execution_count": 34,
   "id": "9ba58a49-6f2b-4d25-8342-3bec7f202f9a",
   "metadata": {},
   "outputs": [
    {
     "name": "stdout",
     "output_type": "stream",
     "text": [
      "8.286419153213501\n"
     ]
    }
   ],
   "source": [
    "start = time.time()\n",
    "sol_norm_dvix = find_optimal_parameters_normalized_tspl(vol=dvix, index=spx, p=p, setting=setting, train_start_date=train_start,\n",
    "                                  test_start_date=test_start, test_end_date=test_end, \n",
    "                                  max_delta=max_delta)\n",
    "print(time.time() - start)"
   ]
  },
  {
   "cell_type": "code",
   "execution_count": null,
   "id": "5165b0fd-c5f9-4d6a-ad3e-7b3d68b9e451",
   "metadata": {
    "scrolled": true,
    "tags": []
   },
   "outputs": [],
   "source": [
    "# start = time.time()\n",
    "# sol_norm = find_optimal_parameters_normalized_tspl(vol=vix.shift(1), index=spx, train_start_date = pd.to_datetime(\"2000-01-03\"), test_start_date = pd.to_datetime(\"2015-02-23\"), test_end_date = pd.to_datetime(\"2017-04-12\"), max_delta=1000)\n",
    "# print(time.time() - start)"
   ]
  },
  {
   "cell_type": "code",
   "execution_count": 35,
   "id": "4bc772fa-a804-4274-9147-16b9068b9674",
   "metadata": {},
   "outputs": [
    {
     "data": {
      "text/plain": [
       "0.9471796382896874"
      ]
     },
     "execution_count": 35,
     "metadata": {},
     "output_type": "execute_result"
    }
   ],
   "source": [
    "sol['train_r2']"
   ]
  },
  {
   "cell_type": "code",
   "execution_count": 36,
   "id": "a65d1560-f608-4eec-b750-5fa5d6968c1c",
   "metadata": {},
   "outputs": [
    {
     "data": {
      "text/plain": [
       "0.867547810167539"
      ]
     },
     "execution_count": 36,
     "metadata": {},
     "output_type": "execute_result"
    }
   ],
   "source": [
    "sol['test_r2']"
   ]
  },
  {
   "cell_type": "code",
   "execution_count": 37,
   "id": "c92d9c43-09e5-499b-b74f-4c3391eeab09",
   "metadata": {},
   "outputs": [
    {
     "data": {
      "text/plain": [
       "0.9303854411248064"
      ]
     },
     "execution_count": 37,
     "metadata": {},
     "output_type": "execute_result"
    }
   ],
   "source": [
    "sol_shift['train_r2']"
   ]
  },
  {
   "cell_type": "code",
   "execution_count": 38,
   "id": "0e7fbdfd-c07c-4848-b438-1ca6526a79b2",
   "metadata": {},
   "outputs": [
    {
     "data": {
      "text/plain": [
       "0.8143168467279575"
      ]
     },
     "execution_count": 38,
     "metadata": {},
     "output_type": "execute_result"
    }
   ],
   "source": [
    "sol_shift['test_r2']"
   ]
  },
  {
   "cell_type": "code",
   "execution_count": 39,
   "id": "cdb84b47-64ef-48dc-ac14-110ac274578b",
   "metadata": {},
   "outputs": [
    {
     "data": {
      "text/plain": [
       "0.26845154061438414"
      ]
     },
     "execution_count": 39,
     "metadata": {},
     "output_type": "execute_result"
    }
   ],
   "source": [
    "sol_dvix['train_r2']"
   ]
  },
  {
   "cell_type": "code",
   "execution_count": 40,
   "id": "f24a41b4-ebb8-4838-9d85-1b18292f140f",
   "metadata": {},
   "outputs": [
    {
     "data": {
      "text/plain": [
       "0.19304133520658562"
      ]
     },
     "execution_count": 40,
     "metadata": {},
     "output_type": "execute_result"
    }
   ],
   "source": [
    "sol_dvix['test_r2']"
   ]
  },
  {
   "cell_type": "code",
   "execution_count": 41,
   "id": "07dcf0b8-1098-4709-b2d1-7dd688329bb6",
   "metadata": {},
   "outputs": [
    {
     "data": {
      "text/plain": [
       "{'beta_0': 0.05431907078829664,\n",
       " 'theta_1': 0.8101658085631585,\n",
       " 'lambda_1': array([52.69878387, 17.2437368 ]),\n",
       " 'beta_1': -0.07789648173387251,\n",
       " 'theta_2': 0.43008970008778785,\n",
       " 'lambda_2': array([3.78857201, 1.15759303]),\n",
       " 'beta_2': 0.821367161202075}"
      ]
     },
     "execution_count": 41,
     "metadata": {},
     "output_type": "execute_result"
    }
   ],
   "source": [
    "sol['opt_params']"
   ]
  },
  {
   "cell_type": "code",
   "execution_count": 42,
   "id": "34ead6e8-0c8b-48b4-8c9b-a61b40e0ce0c",
   "metadata": {},
   "outputs": [
    {
     "data": {
      "text/plain": [
       "{'beta_0': 0.0009064502242806891,\n",
       " 'theta_1': 4.510785343601462e-08,\n",
       " 'lambda_1': array([1068.45948895,  899.18825797]),\n",
       " 'beta_1': 0.0010591774224455704,\n",
       " 'theta_2': 0.10623163080470563,\n",
       " 'lambda_2': array([1.64673437, 0.19744514]),\n",
       " 'beta_2': -0.0038210484659504163}"
      ]
     },
     "execution_count": 42,
     "metadata": {},
     "output_type": "execute_result"
    }
   ],
   "source": [
    "sol_dvix['opt_params']"
   ]
  },
  {
   "cell_type": "code",
   "execution_count": 43,
   "id": "622b8447-7bad-4a79-8442-afa08db73529",
   "metadata": {},
   "outputs": [
    {
     "data": {
      "text/plain": [
       "{'beta_0': 0.05811450681242019,\n",
       " 'theta_1': 0.6121202808238686,\n",
       " 'lambda_1': array([14.34507747, 13.78335889]),\n",
       " 'beta_1': -0.09693240492327206,\n",
       " 'theta_2': 0.335403625086267,\n",
       " 'lambda_2': array([0.87832703, 1.10822483]),\n",
       " 'beta_2': 0.8085007271902024}"
      ]
     },
     "execution_count": 43,
     "metadata": {},
     "output_type": "execute_result"
    }
   ],
   "source": [
    "sol_shift['opt_params']"
   ]
  },
  {
   "cell_type": "code",
   "execution_count": 45,
   "id": "3c64c31d-72e2-4aa6-8efd-d1c090440b85",
   "metadata": {},
   "outputs": [
    {
     "data": {
      "text/plain": [
       "0.2699425370107994"
      ]
     },
     "execution_count": 45,
     "metadata": {},
     "output_type": "execute_result"
    }
   ],
   "source": [
    "sol_norm_dvix['train_r2']"
   ]
  },
  {
   "cell_type": "code",
   "execution_count": 46,
   "id": "17de6ad1-0d89-42f5-a4de-abf02b5cb0da",
   "metadata": {},
   "outputs": [
    {
     "data": {
      "text/plain": [
       "0.19401204092287172"
      ]
     },
     "execution_count": 46,
     "metadata": {},
     "output_type": "execute_result"
    }
   ],
   "source": [
    "sol_norm_dvix['test_r2']"
   ]
  },
  {
   "cell_type": "code",
   "execution_count": 47,
   "id": "6f1aaf24-dda1-4cad-8168-d524d6b8eea4",
   "metadata": {},
   "outputs": [
    {
     "data": {
      "text/plain": [
       "{'beta_0': -0.0014316438313277688,\n",
       " 'beta_1': 4.348968536004848e-05,\n",
       " 'beta_2': 0.008200376443027048,\n",
       " 'alpha_1': 9.999999954142393,\n",
       " 'alpha_2': 9.999909932161737,\n",
       " 'delta_1': 0.0003428292729505453,\n",
       " 'delta_2': 0.966238055794999}"
      ]
     },
     "execution_count": 47,
     "metadata": {},
     "output_type": "execute_result"
    }
   ],
   "source": [
    "sol_norm_dvix['opt_params']"
   ]
  },
  {
   "cell_type": "code",
   "execution_count": null,
   "id": "a41c6a57-02b8-4845-9cdf-3eb438905cb7",
   "metadata": {},
   "outputs": [],
   "source": [
    "sol['opt_params']"
   ]
  }
 ],
 "metadata": {
  "kernelspec": {
   "display_name": "Python 3 (ipykernel)",
   "language": "python",
   "name": "python3"
  },
  "language_info": {
   "codemirror_mode": {
    "name": "ipython",
    "version": 3
   },
   "file_extension": ".py",
   "mimetype": "text/x-python",
   "name": "python",
   "nbconvert_exporter": "python",
   "pygments_lexer": "ipython3",
   "version": "3.9.6"
  }
 },
 "nbformat": 4,
 "nbformat_minor": 5
}
